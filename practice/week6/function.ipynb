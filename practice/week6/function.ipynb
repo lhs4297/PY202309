{
 "cells": [
  {
   "cell_type": "code",
   "execution_count": null,
   "id": "1ea7dab9",
   "metadata": {},
   "outputs": [],
   "source": [
    "import random\n",
    "\n",
    "def get_number():   # Define a function named 'get_number' \n",
    "    return random.randrange(1,46)   # Returns any number between 1 and 45\n",
    "    \n",
    "lotto = []   # Creates an empty list named lotto\n",
    "num = 0   # Initializes the variable num to zero\n",
    "print(\"** start Lotto **\")\n",
    "\n",
    "while True:\n",
    "    num = get_number()   # Call the get_number function to generate an arbitrary number and store it in the num variable\n",
    "    if lotto.count(num) == 0:   # If the value stored in the num variable is not in the lotto list\n",
    "        lotto.append(num)   # Adds this value to the lotto list.\n",
    "    if len(lotto) >= 6:   # If the length of the lotto list is more than 6, that is, if six lotto numbers are chosen,\n",
    "        break   # Ends a recurring statement\n",
    "print(\"Number: \", end = ' ')\n",
    "lotto.sort() \n",
    "for number in lotto:   # Access each element (lottery number) of the lotto list\n",
    "    print(number, end = ' ') \n"
   ]
  }
 ],
 "metadata": {
  "kernelspec": {
   "display_name": "Python 3 (ipykernel)",
   "language": "python",
   "name": "python3"
  },
  "language_info": {
   "codemirror_mode": {
    "name": "ipython",
    "version": 3
   },
   "file_extension": ".py",
   "mimetype": "text/x-python",
   "name": "python",
   "nbconvert_exporter": "python",
   "pygments_lexer": "ipython3",
   "version": "3.11.5"
  }
 },
 "nbformat": 4,
 "nbformat_minor": 5
}
