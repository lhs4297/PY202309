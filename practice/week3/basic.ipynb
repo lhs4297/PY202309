{
 "cells": [
  {
   "cell_type": "code",
   "execution_count": 3,
   "id": "5880b24d",
   "metadata": {},
   "outputs": [
    {
     "name": "stdout",
     "output_type": "stream",
     "text": [
      "1. current list =  [30, 10, 20, 50, 40]\n",
      "2. append(60) =  [30, 10, 20, 50, 40, 60]\n",
      "3. item after pop() =  60\n",
      "4. list after pop() =  [30, 10, 20, 50, 40]\n",
      "5. after sort() =  [10, 20, 30, 40, 50]\n",
      "6. after reverse() =  [50, 40, 30, 20, 10]\n",
      "7. index for 20 =  3\n",
      "8. after insert(2, 222) =  [50, 40, 222, 30, 20, 10]\n",
      "9. after remove(2, 222) =  [50, 40, 30, 20, 10]\n",
      "10. after extend([100, 200, 100]) =  [50, 40, 30, 20, 10, 100, 200, 100]\n",
      "11. the number of 100 =  2\n"
     ]
    }
   ],
   "source": [
    "sample_list = [30, 10, 20, 50, 40]   # sample list = 0~4th \n",
    "print(\"1. current list = \", sample_list)\n",
    "\n",
    "sample_list.append(60)   # add 60 to the end of the existing sample list\n",
    "print(\"2. append(60) = \", sample_list)\n",
    "\n",
    "print(\"3. item after pop() = \", sample_list.pop())   # bring out the index at the end\n",
    "print(\"4. list after pop() = \", sample_list)   # take it out and print out the remaining list\n",
    "\n",
    "sample_list.sort()   # sort the sample list in ascending order\n",
    "print(\"5. after sort() = \", sample_list)\n",
    "\n",
    "sample_list.reverse()   # sort the sample list in descending order\n",
    "print(\"6. after reverse() = \", sample_list)\n",
    "\n",
    "print(\"7. index for 20 = \", sample_list.index(20))  # find the number 20 in the sample list\n",
    "\n",
    "sample_list.insert(2, 222)   # change the number in the second to 222\n",
    "print(\"8. after insert(2, 222) = \", sample_list)\n",
    "\n",
    "sample_list.remove(222)   # remove the number 222 in the sample list\n",
    "print(\"9. after remove(2, 222) = \", sample_list)\n",
    "\n",
    "new_list = [100, 200, 100]   # make new list\n",
    "sample_list.extend(new_list)   #  expand the sample list and add a new list to the back\n",
    "print(\"10. after extend([100, 200, 100]) = \", sample_list)\n",
    "\n",
    "print(\"11. the number of 100 = \", sample_list.count(100))   # count how many times there are 100 in the list"
   ]
  },
  {
   "cell_type": "code",
   "execution_count": 13,
   "id": "d1616943",
   "metadata": {},
   "outputs": [
    {
     "name": "stdout",
     "output_type": "stream",
     "text": [
      "turtle bye!\n"
     ]
    }
   ],
   "source": [
    "import turtle   # import the turtle library\n",
    "t = turtle.Turtle()   # save the turtle library to t\n",
    "radius_list = [100, 200, 50]   # radius volume \n",
    "move = 20\n",
    "\n",
    "t.shape(\"turtle\")\n",
    "\n",
    "for i in range(0, len(radius_list)):   # repeat i as many times as the number of indexes in the radius_list\n",
    "    radius = radius_list[i]   # Save radius list as radius\n",
    "    t.circle(radius)   #  take the radius and use the circle function in the turret library\n",
    "    t.fd(move)   #  take the radius and use the forward function in the turret library\n",
    "    \n",
    "turtle.done()\n",
    "try:\n",
    "    turtle.bye()\n",
    "except:\n",
    "    print(\"turtle bye!\")\n",
    "    "
   ]
  },
  {
   "cell_type": "code",
   "execution_count": 23,
   "id": "f7b845e8",
   "metadata": {},
   "outputs": [
    {
     "name": "stdout",
     "output_type": "stream",
     "text": [
      "Enter 1st number: 50\n",
      "Enter 2nd number: 40\n",
      "Enter 3rd number: 90\n",
      "Enter 4th number: 10\n",
      "Enter 5th number: 30\n",
      "max: 90.0\n",
      "min: 10.0\n",
      "average: 44.0\n"
     ]
    }
   ],
   "source": [
    "numbers = []\n",
    "\n",
    "numbers = [   # get 5 inputs in float type\n",
    "    float(input(\"Enter 1st number: \")),\n",
    "    float(input(\"Enter 2nd number: \")),\n",
    "    float(input(\"Enter 3rd number: \")),\n",
    "    float(input(\"Enter 4th number: \")),\n",
    "    float(input(\"Enter 5th number: \"))\n",
    "]\n",
    "    \n",
    "maximum = max(numbers)   # max index\n",
    "minimum = min(numbers)   # min index\n",
    "average = sum(numbers) / len(numbers)   # add all the values of the index and divide by the number of indexes\n",
    "\n",
    "print(\"max:\", maximum)   # print\n",
    "print(\"min:\", minimum)\n",
    "print(\"average:\", average)\n",
    "    "
   ]
  },
  {
   "cell_type": "code",
   "execution_count": 42,
   "id": "fea8842b",
   "metadata": {},
   "outputs": [
    {
     "name": "stdout",
     "output_type": "stream",
     "text": [
      "What is your favorite singers?ss\n",
      "['BTS', 'Black Pink', 'ss']\n"
     ]
    }
   ],
   "source": [
    "singers_names = ['Black Pink', 'BTS']   # list of two existing singers\n",
    "\n",
    "new_singers = str(input(\"What is your favorite singers?\"))   # take the input as str type\n",
    "singers_names.append(new_singers)   # append the received input after the existing list\n",
    "\n",
    "list.sort(singers_names)   # sort based on str\n",
    "\n",
    "print(singers_names)\n"
   ]
  },
  {
   "cell_type": "code",
   "execution_count": 44,
   "id": "280bb0ca",
   "metadata": {},
   "outputs": [
    {
     "name": "stdout",
     "output_type": "stream",
     "text": [
      "('tennis', 'football', 'baseball', 'basketball', 'golf')\n",
      "Please enter one of the sport name from above : golf\n",
      "golf hasindex number :  4\n"
     ]
    }
   ],
   "source": [
    "sports_names = 'tennis', 'football', 'baseball', 'basketball', 'golf'   # create five sports names in the form of a tuple\n",
    "print(sports_names)   # display items\n",
    "\n",
    "select_sports = input(\"Please enter one of the sport name from above : \")   # pick one of the sports in the tower and receive it as input\n",
    "print( select_sports, \"has index number : \", len(select_sports))   # output the length of the index received by input\n",
    "\n",
    "\n",
    "\n",
    "\n"
   ]
  },
  {
   "cell_type": "code",
   "execution_count": null,
   "id": "e818a349",
   "metadata": {},
   "outputs": [],
   "source": []
  }
 ],
 "metadata": {
  "kernelspec": {
   "display_name": "Python 3 (ipykernel)",
   "language": "python",
   "name": "python3"
  },
  "language_info": {
   "codemirror_mode": {
    "name": "ipython",
    "version": 3
   },
   "file_extension": ".py",
   "mimetype": "text/x-python",
   "name": "python",
   "nbconvert_exporter": "python",
   "pygments_lexer": "ipython3",
   "version": "3.9.7"
  }
 },
 "nbformat": 4,
 "nbformat_minor": 5
}
