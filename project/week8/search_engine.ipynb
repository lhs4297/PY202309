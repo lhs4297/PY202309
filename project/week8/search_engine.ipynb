{
 "cells": [
  {
   "cell_type": "code",
   "execution_count": 2,
   "id": "691a8a3c",
   "metadata": {},
   "outputs": [
    {
     "name": "stdout",
     "output_type": "stream",
     "text": [
      "영어 쿼리를 입력하세요.hellO mY naMe is mIKE\n",
      "rank\tIndex\tscore\tsentence\n",
      "Input sentence :  hellO mY naMe is mIKE\n",
      "1\t679\t0.5\tname is mike. my\n",
      "2\t526\t0.2857142857142857\tbob is brother. my\n",
      "3\t538\t0.2857142857142857\tis hobby traveling. my\n",
      "4\t453\t0.25\tsketching my is mother them.\n",
      "5\t241\t0.2222222222222222\trunning my father is with so-ra.\n",
      "6\t336\t0.2222222222222222\tmy the family is park. at\n",
      "7\t212\t0.2\tfor waiting my me. is sister betty\n",
      "8\t505\t0.18181818181818182\tannie five years little my is old. sister\n",
      "9\t610\t0.15384615384615385\ti voice my yell, \"lunch is ready!\" and would raise\n",
      "10\t190\t0.14285714285714285\tis it sunday.\n"
     ]
    }
   ],
   "source": [
    "import operator\n",
    "\n",
    "# Preprocess function\n",
    "def preprocess(sentence):\n",
    "    preprocessed_sentence = set(sentence.strip().lower().split(\" \"))\n",
    "    return preprocessed_sentence\n",
    "\n",
    "# Indexing function\n",
    "def indexing(file_name):\n",
    "   \n",
    "    file_tokens_pairs = [] # make a list\n",
    "    lines = open(file_name, \"r\", encoding=\"utf8\").readlines()   # Read the sentences from the file and save them in a variable\n",
    "   \n",
    "    for line in lines:\n",
    "        tokens = preprocess(line)     # Call the preprocess function, add it to the list, and return it\n",
    "        file_tokens_pairs.append(tokens)\n",
    "        #print(tokens)\n",
    "    return file_tokens_pairs\n",
    "\n",
    "# Calculate similarity function\n",
    "def calc_similarity(preprocessed_query, preprocessed_sentences):\n",
    "   \n",
    "    score_dict = {}\n",
    "    query_token_set = set(preprocessed_query)\n",
    "   \n",
    "   \n",
    "    # Take the sets, calculate the following values, find the similarity, and return them to score_dict\n",
    "    for i, sentence_tokens in enumerate(preprocessed_sentences):\n",
    "        all_tokens = query_token_set | sentence_tokens\n",
    "        same_tokens = query_token_set & sentence_tokens\n",
    "        similarity = len(same_tokens) / len(all_tokens)\n",
    "        score_dict[i] = similarity\n",
    "\n",
    "    return score_dict\n",
    "\n",
    "# Do Indexing\n",
    "file_name = \"jhe-koen-dev.en\"\n",
    "file_tokens_pairs = indexing(file_name)\n",
    "\n",
    "# Input the query\n",
    "query = input(\"영어 쿼리를 입력하세요.\")\n",
    "preprocessed_query = preprocess(query)\n",
    "\n",
    "# Calculate similarities based on the same token set\n",
    "score_dict = calc_similarity(preprocessed_query, file_tokens_pairs)\n",
    "\n",
    "# Sort the similarity list\n",
    "sorted_score_list = sorted(score_dict.items(), key=operator.itemgetter(1), reverse=True)\n",
    "\n",
    "# Print the result\n",
    "if sorted_score_list[0][1] == 0.0:\n",
    "    print(\"There is no similar sentence.\")\n",
    "else:\n",
    "    print(\"rank\", \"Index\", \"score\", \"sentence\", sep=\"\\t\")\n",
    "    print(\"Input sentence : \", query)\n",
    "    rank = 1\n",
    "    for i, score in sorted_score_list[:10]:\n",
    "        print(rank, i, score, ' '.join(file_tokens_pairs[i]), sep=\"\\t\")\n",
    "        rank += 1"
   ]
  },
  {
   "cell_type": "code",
   "execution_count": null,
   "id": "8fd981d2",
   "metadata": {},
   "outputs": [],
   "source": []
  }
 ],
 "metadata": {
  "kernelspec": {
   "display_name": "Python 3 (ipykernel)",
   "language": "python",
   "name": "python3"
  },
  "language_info": {
   "codemirror_mode": {
    "name": "ipython",
    "version": 3
   },
   "file_extension": ".py",
   "mimetype": "text/x-python",
   "name": "python",
   "nbconvert_exporter": "python",
   "pygments_lexer": "ipython3",
   "version": "3.11.5"
  }
 },
 "nbformat": 4,
 "nbformat_minor": 5
}
