{
 "cells": [
  {
   "cell_type": "code",
   "execution_count": 2,
   "id": "bfa53827",
   "metadata": {},
   "outputs": [
    {
     "name": "stdout",
     "output_type": "stream",
     "text": [
      "**Start Lotto**\n",
      "1) Set the lotto numbers\n",
      "2) Set the user inputs\n",
      "Enter 1-number: 10\n",
      "Enter 1-number: 5\n",
      "Enter 1-number: 45\n",
      "Enter 1-number: 33\n",
      "Enter 1-number: 11\n",
      "Enter 1-number: 19\n",
      "3)Match the numbers\n",
      "no prize\n",
      "4)Check the prize\n",
      "5) Sort the lists\n",
      "Lotto number:  8 19 20 34 38 45\n",
      "User number:  5 10 11 19 33 45\n"
     ]
    }
   ],
   "source": [
    "import random \n",
    "\n",
    "def get_number():   # Generate a random number between 1 and 45\n",
    "    return random.randrange(1,46)\n",
    "\n",
    "def set_lotto_numbers():   # Initialize an empty list to store the lottery numbers\n",
    "    lotto_com = []\n",
    "    while len(lotto_com) < 6:   # Generate a number\n",
    "        num = get_number()   # If the number is not already in the list, add it\n",
    "        if num not in lotto_com:\n",
    "            lotto_com.append(num)   # Return the list of lottery numbers\n",
    "    return lotto_com\n",
    "\n",
    "def lotto_user_input_F():   # Initialize an empty list to store the user's lottery numbers\n",
    "    lotto = []\n",
    "    while len(lotto) < 6:   # Prompt the user to enter a number\n",
    "        user_input = input(\"Enter 1-number: \")\n",
    "        try:   # Convert the user's input to an integer\n",
    "            num = int(user_input)   # If the number is between 1 and 45 and is not already in the list, add it\n",
    "            if 1<= num <= 46 and num not in lotto:   \n",
    "                lotto.append(num)   # If the number is already in the list, print a message\n",
    "            elif num in lotto:   \n",
    "                print(\"Same\")\n",
    "            else:\n",
    "                print(\"No valid number\")\n",
    "        except ValueError:   # If the user's input cannot be converted to an integer, print a message\n",
    "            print(\"No valid number\")   # Return the list of the user's lottery numbers\n",
    "    return lotto\n",
    "\n",
    "def match_numbers(user_inputs, lotto_numbers):   # Find the common numbers between the user's lottery numbers and the lottery numbers\n",
    "    same_numbers = [num for num in user_inputs if num in lotto_numbers]   # Return the list of common numbers\n",
    "    return same_numbers\n",
    "\n",
    "def check_prize(same_numbers):   # Print the prize based on the number of common numbers\n",
    "    if len(same_numbers) == 0:\n",
    "        print(\"no prize\")\n",
    "    elif len(same_numbers) == 1:\n",
    "        print(\"4th prize\")\n",
    "    else:\n",
    "        print(\"omission\")\n",
    "\n",
    "print(\"**Start Lotto**\")  \n",
    "print(\"1) Set the lotto numbers\")\n",
    "\n",
    "lotto_com = set_lotto_numbers()\n",
    "\n",
    "print(\"2) Set the user inputs\")  \n",
    "\n",
    "user_lotto = lotto_user_input_F()   # Get the user's lottery numbers\n",
    "\n",
    "print(\"3)Match the numbers\") \n",
    "\n",
    "same_numbers = match_numbers(user_lotto, lotto_com)   # Find the common numbers between the user's lottery numbers and the lottery numbers\n",
    "\n",
    "print(\"4)Check the prize\")\n",
    "\n",
    "check_prize(same_numbers)   # Check the prize based on the number of common numbers\n",
    "\n",
    "print(\"5) Sort the lists\")\n",
    "\n",
    "# Sort the lottery numbers and the user's lottery numbers\n",
    "lotto_com.sort()\n",
    "user_lotto.sort()\n",
    "\n",
    "# Print the lottery numbers and the user's lottery numbers\n",
    "print(\"Lotto number: \", *lotto_com)\n",
    "print(\"User number: \", *user_lotto)\n"
   ]
  },
  {
   "cell_type": "code",
   "execution_count": 3,
   "id": "f9db6663",
   "metadata": {},
   "outputs": [
    {
     "name": "stdout",
     "output_type": "stream",
     "text": [
      "**Start Lotto**\n",
      "1) Set the lotto numbers\n",
      "2) Set the user inputs\n",
      "Enter 1-number: 10\n",
      "Enter 1-number: 5\n",
      "Enter 1-number: 15\n",
      "Enter 1-number: 30\n",
      "Enter 1-number: 41\n",
      "Enter 1-number: 45\n",
      "3)Match the numbers\n",
      "4)Check the prize\n",
      "4th prize\n",
      "5) Sort the lists\n",
      "Lotto number:  11 13 24 30 34 37\n",
      "User number:  5 10 15 30 41 45\n"
     ]
    }
   ],
   "source": []
  },
  {
   "cell_type": "code",
   "execution_count": null,
   "id": "154fcd36",
   "metadata": {},
   "outputs": [],
   "source": []
  }
 ],
 "metadata": {
  "kernelspec": {
   "display_name": "Python 3 (ipykernel)",
   "language": "python",
   "name": "python3"
  },
  "language_info": {
   "codemirror_mode": {
    "name": "ipython",
    "version": 3
   },
   "file_extension": ".py",
   "mimetype": "text/x-python",
   "name": "python",
   "nbconvert_exporter": "python",
   "pygments_lexer": "ipython3",
   "version": "3.11.5"
  }
 },
 "nbformat": 4,
 "nbformat_minor": 5
}
