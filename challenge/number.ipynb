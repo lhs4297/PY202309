{
 "cells": [
  {
   "cell_type": "code",
   "execution_count": 4,
   "id": "53c77ff3",
   "metadata": {},
   "outputs": [
    {
     "name": "stdout",
     "output_type": "stream",
     "text": [
      "What do you call a bear with no teeth?\n",
      "A gummy bear!\n"
     ]
    }
   ],
   "source": [
    "print(\"What do you call a bear with no teeth?\" \"\\nA gummy bear!\") # \\n use 2 line"
   ]
  },
  {
   "cell_type": "code",
   "execution_count": 10,
   "id": "83e84fbe",
   "metadata": {},
   "outputs": [
    {
     "name": "stdout",
     "output_type": "stream",
     "text": [
      "Enter your name: Hyeonseung Lee\n",
      "Hello, Hyeonseung Lee\n"
     ]
    }
   ],
   "source": [
    "name = input(\"Enter your name: \") # use 'input' insert\n",
    "print(\"Hello, \" + name) # print"
   ]
  },
  {
   "cell_type": "code",
   "execution_count": 12,
   "id": "5a8b32b1",
   "metadata": {},
   "outputs": [
    {
     "name": "stdout",
     "output_type": "stream",
     "text": [
      "Input your name: Hyeonseung\n",
      "Input your last name: Lee\n",
      "Hello, HyeonseungLee\n"
     ]
    }
   ],
   "source": [
    "name = input(\"Input your name: \") # str insert\n",
    "last_name = input(\"Input your last name: \") # str insert\n",
    "print(\"Hello, \" + name + last_name) # sue + merge"
   ]
  },
  {
   "cell_type": "code",
   "execution_count": 22,
   "id": "51821379",
   "metadata": {},
   "outputs": [
    {
     "name": "stdout",
     "output_type": "stream",
     "text": [
      "Input your first number: 10\n",
      "Input your second number: 20\n",
      "10 + 20 = 30\n"
     ]
    }
   ],
   "source": [
    "first_num = int(input(\"Input your first number: \")) #int type insert\n",
    "second_num = int(input(\"Input your second number: \"))\n",
    "print(first_num,\"+\", second_num, \"=\", int(first_num + second_num)) # on print, add first_num, seconf_num"
   ]
  },
  {
   "cell_type": "code",
   "execution_count": 23,
   "id": "92e854c4",
   "metadata": {},
   "outputs": [
    {
     "name": "stdout",
     "output_type": "stream",
     "text": [
      "Enter your first number: 10\n",
      "Enter your second number: 20\n",
      "Enter your third number: 30\n",
      "10 + 20 * 30 = 610\n",
      "( 10 + 20 ) * 30 = 900\n"
     ]
    }
   ],
   "source": [
    "# three add num\n",
    "num1 = int(input(\"Enter your first number: \")) \n",
    "num2 = int(input(\"Enter your second number: \"))\n",
    "num3 = int(input(\"Enter your third number: \"))\n",
    "print(num1, \"+\", num2, \"*\", num3, \"=\", num1 + num2 * num3)\n",
    "print(\"(\", num1, \"+\", num2, \") *\", num3, \"=\", (num1 + num2) * num3)"
   ]
  },
  {
   "cell_type": "code",
   "execution_count": 24,
   "id": "343135ca",
   "metadata": {},
   "outputs": [
    {
     "name": "stdout",
     "output_type": "stream",
     "text": [
      "Enter the number of slices of pizza you started with : 10\n",
      "How many slices have you eaten? : 5\n",
      "You have 5 slicing remaining.\n"
     ]
    }
   ],
   "source": [
    "start_slices = int(input(\"Enter the number of slices of pizza you started with : \")) # insert str --> int type save\n",
    "eat_slices = int(input(\"How many slices have you eaten? : \")) # insert str --> int type save\n",
    "remain_slices = start_slices - eat_slices # int type calculate\n",
    "print(\"You have\", remain_slices, \"slicing remaining.\")"
   ]
  },
  {
   "cell_type": "code",
   "execution_count": 25,
   "id": "55147cb4",
   "metadata": {},
   "outputs": [
    {
     "name": "stdout",
     "output_type": "stream",
     "text": [
      "Please enter your name: Hyeonseung\n",
      "Please enter your age: 27\n",
      "Hyeonseung, next birthday you will be 28\n"
     ]
    }
   ],
   "source": [
    "name = input(\"Please enter your name: \") # str insert\n",
    "age = int(input(\"Please enter your age: \")) # int type insert\n",
    "age += 1 # accelate +1 \n",
    "print(name + \", next birthday you will be\", age) # print age is added 1"
   ]
  },
  {
   "cell_type": "code",
   "execution_count": 26,
   "id": "0d00320c",
   "metadata": {},
   "outputs": [
    {
     "name": "stdout",
     "output_type": "stream",
     "text": [
      "What is the total cost of the bill? : 5500\n",
      "How many people are there? : 3\n",
      "Each person should pay  1833.3333333333333 won.\n"
     ]
    }
   ],
   "source": [
    "cost = float(input(\"What is the total cost of the bill? : \")) # float type input ex) 5500\n",
    "people = int(input(\"How many people are there? : \")) # int type input\n",
    "cost_per_people = cost / people # calculate cost and people\n",
    "print(\"Each person should pay \", cost_per_people, \"won.\") # print cost_per_people\n"
   ]
  },
  {
   "cell_type": "code",
   "execution_count": 27,
   "id": "89411f25",
   "metadata": {},
   "outputs": [
    {
     "name": "stdout",
     "output_type": "stream",
     "text": [
      "Enter the number of days: 10\n",
      "In 10 days there are...\n",
      "240 hours\n",
      "14400 minutes\n",
      "864000 seconds\n"
     ]
    }
   ],
   "source": [
    "days = int(input(\"Enter the number of days: \")) # int type intput\n",
    "hours = days * 24 \n",
    "minutes = hours * 60\n",
    "seconds = minutes * 60\n",
    "print(\"In\", days, \"days there are...\") # print \"~~\" + days + \"~~\"\n",
    "print(hours, \"hours\")\n",
    "print(minutes, \"minutes\")\n",
    "print(seconds, \"seconds\")"
   ]
  },
  {
   "cell_type": "code",
   "execution_count": null,
   "id": "8bda7752",
   "metadata": {},
   "outputs": [],
   "source": []
  }
 ],
 "metadata": {
  "kernelspec": {
   "display_name": "Python 3 (ipykernel)",
   "language": "python",
   "name": "python3"
  },
  "language_info": {
   "codemirror_mode": {
    "name": "ipython",
    "version": 3
   },
   "file_extension": ".py",
   "mimetype": "text/x-python",
   "name": "python",
   "nbconvert_exporter": "python",
   "pygments_lexer": "ipython3",
   "version": "3.9.7"
  }
 },
 "nbformat": 4,
 "nbformat_minor": 5
}
