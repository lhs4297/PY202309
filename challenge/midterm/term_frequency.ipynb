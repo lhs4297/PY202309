{
 "cells": [
  {
   "cell_type": "code",
   "execution_count": 1,
   "id": "12a4d688",
   "metadata": {},
   "outputs": [
    {
     "name": "stdout",
     "output_type": "stream",
     "text": [
      "-----TF dictionary-----\n",
      "{'jumps': 1, 'the': 2, 'dog': 1, 'is': 1, 'difficulty': 1, 'over': 1, 'a': 1, 'to': 1, 'in': 1, 'books': 1, 'with': 1, 'likes': 1, 'lies': 1, 'fox': 1, 'journey': 1, 'of': 2, 'she': 1, 'read': 1, 'step': 1, 'miles': 1, 'begins': 1, 'glitters': 1, 'quick': 1, 'opportunity': 1, 'all': 1, 'middle': 1, 'brown': 1, 'not': 1, 'that': 1, 'thousand': 1, 'gold': 1, 'lazy': 1, 'single': 1}\n",
      "-----Top-3 TF terms-----\n",
      "Rank 1: Word \"the\" - Frequency 2\n",
      "Rank 2: Word \"of\" - Frequency 2\n",
      "Rank 3: Word \"jumps\" - Frequency 1\n"
     ]
    }
   ],
   "source": [
    "# Import the required modules\n",
    "import operator\n",
    "\n",
    "# Function that returns a set of words by preprocessing a sentence\n",
    "def preprocess(sentence):\n",
    "    \n",
    "    words = sentence.lower().replace(\".\", \"\").strip().split(\" \") # Convert the sentence to lowercase, remove the period, and divide the words into spaces\n",
    "    \n",
    "    return set(words)\n",
    "\n",
    "# Function that calculates the token frequency of sentences\n",
    "def calculate_term_frequency(sentences):\n",
    "    \n",
    "    # TODO 1: 토큰 집합 만들기\n",
    "    total_terms = set()\n",
    "    term_frequency_dict = {}\n",
    "\n",
    "    # Preprocess each sentence to create a set of tokens\n",
    "    for sentence in sentences:\n",
    "        total_terms = total_terms.union(preprocess(sentence))\n",
    "\n",
    "    # TODO 2: 토큰 별 단어 빈도를 딕셔너리에 저장\n",
    "    for term in total_terms:   # Calculate the frequency of each token and store it in the dictionary\n",
    "        for sentence in sentences:\n",
    "            if term in preprocess(sentence):\n",
    "                term_frequency_dict[term] = term_frequency_dict.get(term, 0) + 1\n",
    "\n",
    "    return term_frequency_dict\n",
    "\n",
    "# A function that outputs the most frequent tokens\n",
    "def print_top_terms(term_frequency_dict, top_count):\n",
    "\n",
    "    sorted_terms = sorted(term_frequency_dict.items(), key=operator.itemgetter(1), reverse=True)   # Sorts tokens in descending order by frequency.\n",
    "\n",
    "    # Outputs the most frequent tokens   \n",
    "    for i in range(top_count):\n",
    "        print(f'Rank {i+1}: Word \"{sorted_terms[i][0]}\" - Frequency {sorted_terms[i][1]}')\n",
    "\n",
    "\n",
    "SENTENCES = [\n",
    "    \"The quick brown fox jumps over the lazy dog.\",\n",
    "    \"A journey of a thousand miles begins with a single step.\",\n",
    "    \"All that glitters is not gold.\",    \n",
    "    \"In the middle of difficulty lies opportunity.\",\n",
    "    \"She likes to read books.\"\n",
    "]\n",
    "\n",
    "\n",
    "term_frequency_dict = calculate_term_frequency(SENTENCES)\n",
    "\n",
    "# 토큰 빈도 출력\n",
    "print(\"-----TF dictionary-----\")\n",
    "print(term_frequency_dict)\n",
    "\n",
    "print(\"-----Top-3 TF terms-----\")\n",
    "# TODO 3: Top-3 토큰 빈도를 갖는 단어의 순위, 단어, 빈도 출력 코드 작성\n",
    "print_top_terms(term_frequency_dict, 3)\n"
   ]
  },
  {
   "cell_type": "code",
   "execution_count": null,
   "id": "c745c459",
   "metadata": {},
   "outputs": [],
   "source": []
  }
 ],
 "metadata": {
  "kernelspec": {
   "display_name": "Python 3 (ipykernel)",
   "language": "python",
   "name": "python3"
  },
  "language_info": {
   "codemirror_mode": {
    "name": "ipython",
    "version": 3
   },
   "file_extension": ".py",
   "mimetype": "text/x-python",
   "name": "python",
   "nbconvert_exporter": "python",
   "pygments_lexer": "ipython3",
   "version": "3.11.5"
  }
 },
 "nbformat": 4,
 "nbformat_minor": 5
}
