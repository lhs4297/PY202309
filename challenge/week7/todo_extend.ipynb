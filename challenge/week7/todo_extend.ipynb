{
 "cells": [
  {
   "cell_type": "code",
   "execution_count": 30,
   "id": "0116d317",
   "metadata": {},
   "outputs": [
    {
     "name": "stdout",
     "output_type": "stream",
     "text": [
      "파일명을 입력하세요 :tasks.txt\n",
      "\n",
      "할일 관리 프로그램\n",
      "1. 할일 추가\n",
      "2. 할일 목록 표시\n",
      "3. 종료\n",
      "잘못된 입력입니다.\n"
     ]
    }
   ],
   "source": [
    "# Functions that add to do\n",
    "def add_task(task_list, task):\n",
    "    task_list.append(task)\n",
    "\n",
    "#Functions that show to-do lists\n",
    "def display_tasks(task_list):\n",
    "    if not task_list:\n",
    "        print(\"할일 목록이 비어 있습니다.\")\n",
    "    else:\n",
    "        print(\"할일 목록:\")\n",
    "    for I in range(len(task_list)):\n",
    "        task = task_list[i]\n",
    "        print(f\"{i+1}. {task}\")\n",
    "\n",
    "#Functions to save files\n",
    "def save_tasks_to_file(task_list, filename):\n",
    "    write_fp = open(filename, 'w', encoding=\"utf8\")\n",
    "    for task in task_list:\n",
    "        write_fp.write(task+\"\\n\")\n",
    "        write_fp.close()\n",
    "\n",
    "#File Import Function\n",
    "def load_tasks_from_file(filename):\n",
    "    task_list = []\n",
    "    read_fp = open(filename, 'r', encoding=\"utf8\")\n",
    "    lines = read_fp.readlines()\n",
    "    for line in lines:\n",
    "        task_list.append(line.strip())\n",
    "    return task_list\n",
    "\n",
    "\n",
    "#Receive the file name from the user\n",
    "file_name = input(\"파일명을 입력하세요 :\")\n",
    "\n",
    "\n",
    "# Occurs an exception when an incorrect file name is entered and causes the program to shut down   \n",
    "while True:\n",
    "    try:\n",
    "        task_list = load_tasks_from_file(file_name)\n",
    "\n",
    "        print(\"\\n할일 관리 프로그램\")\n",
    "        print(\"1. 할일 추가\")\n",
    "        print(\"2. 할일 목록 표시\")\n",
    "        print(\"3. 종료\")\n",
    "        choice = input(\"선택: \")\n",
    "\n",
    "        if choice == '1':\n",
    "            task = input(\"할일을 입력하세요: \")\n",
    "            add_task(task_list, task)\n",
    "            print(\"할일이 추가되었습니다.\")\n",
    "\n",
    "        elif choice == '2':\n",
    "            display_tasks(task_list)\n",
    "\n",
    "\n",
    "        elif choice == '3':\n",
    "            save_tasks_to_file(task_list, file_name)\n",
    "            print(\"프로그램을 종료합니다.\")\n",
    "            break\n",
    "\n",
    "        else:         \n",
    "            print(\"잘못된 선택입니다. 다시 시도하세요.\")\n",
    "    except:\n",
    "        print(\"잘못된 입력입니다.\")\n",
    "        break\n",
    "        \n",
    "    \n",
    "\n",
    "    \n",
    "\n"
   ]
  },
  {
   "cell_type": "code",
   "execution_count": null,
   "id": "8e7fe03f",
   "metadata": {},
   "outputs": [],
   "source": []
  },
  {
   "cell_type": "code",
   "execution_count": null,
   "id": "56728d15",
   "metadata": {},
   "outputs": [],
   "source": []
  }
 ],
 "metadata": {
  "kernelspec": {
   "display_name": "Python 3 (ipykernel)",
   "language": "python",
   "name": "python3"
  },
  "language_info": {
   "codemirror_mode": {
    "name": "ipython",
    "version": 3
   },
   "file_extension": ".py",
   "mimetype": "text/x-python",
   "name": "python",
   "nbconvert_exporter": "python",
   "pygments_lexer": "ipython3",
   "version": "3.9.7"
  }
 },
 "nbformat": 4,
 "nbformat_minor": 5
}
