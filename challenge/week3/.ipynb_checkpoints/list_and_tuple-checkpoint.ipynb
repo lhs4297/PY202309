{
 "cells": [
  {
   "cell_type": "code",
   "execution_count": 1,
   "id": "7e15ae88",
   "metadata": {},
   "outputs": [
    {
     "name": "stdout",
     "output_type": "stream",
     "text": [
      "Enter 1st number: 1\n",
      "Enter 2nd number: 5\n",
      "Enter 3rd number: 3\n",
      "Enter 4th number: 50\n",
      "Enter 5th number: 10\n",
      "max: 50.0\n",
      "min: 1.0\n",
      "average: 13.8\n"
     ]
    }
   ],
   "source": [
    "numbers = []\n",
    "\n",
    "numbers = [   # get 5 inputs in float type\n",
    "    float(input(\"Enter 1st number: \")),\n",
    "    float(input(\"Enter 2nd number: \")),\n",
    "    float(input(\"Enter 3rd number: \")),\n",
    "    float(input(\"Enter 4th number: \")),\n",
    "    float(input(\"Enter 5th number: \"))\n",
    "]\n",
    "    \n",
    "maximum = max(numbers)   # max index\n",
    "minimum = min(numbers)   # min index\n",
    "average = sum(numbers) / len(numbers)   # add all the values of the index and divide by the number of indexes\n",
    "\n",
    "print(\"max:\", maximum)   # print\n",
    "print(\"min:\", minimum)\n",
    "print(\"average:\", average)"
   ]
  },
  {
   "cell_type": "code",
   "execution_count": 2,
   "id": "77662298",
   "metadata": {},
   "outputs": [
    {
     "name": "stdout",
     "output_type": "stream",
     "text": [
      "What is your favorite singers?BTS\n",
      "['BTS', 'BTS', 'Black Pink']\n"
     ]
    }
   ],
   "source": [
    "singers_names = ['Black Pink', 'BTS']   # list of two existing singers\n",
    "\n",
    "new_singers = str(input(\"What is your favorite singers?\"))   # take the input as str type\n",
    "singers_names.append(new_singers)   # append the received input after the existing list\n",
    "\n",
    "list.sort(singers_names)   # sort based on str\n",
    "\n",
    "print(singers_names)"
   ]
  },
  {
   "cell_type": "code",
   "execution_count": 4,
   "id": "c99a31d4",
   "metadata": {},
   "outputs": [
    {
     "name": "stdout",
     "output_type": "stream",
     "text": [
      "('tennis', 'football', 'baseball', 'basketball', 'golf')\n",
      "Please enter one of the sport name from above : golf\n",
      "golf has index number :  4\n",
      "Index: 4\n",
      "Enter a number between 0 and 4: 0\n",
      "Sport Name: tennis\n"
     ]
    }
   ],
   "source": [
    "sports_tuple = 'tennis', 'football', 'baseball', 'basketball', 'golf'   # create five sports names in the form of a tuple\n",
    "print(sports_tuple)   # display items\n",
    "\n",
    "selected_sport = input(\"Please enter one of the sport name from above : \")   # pick one of the sports in the tower and receive it as input\n",
    "print(selected_sport, \"has index number : \", len(selected_sport))   # output the length of the index received by input\n",
    "\n",
    "if selected_sport in sports_tuple:   # verify that selected_sport is included in sports_tuple\n",
    "    index = sports_tuple.index(selected_sport)   # find the index of selected_sport and assign it to the variable index\n",
    "    print(\"Index:\", index)\n",
    "else:\n",
    "    print(\"Invalid sport name.\")   # If the selected_sport is not in the sports_tuple, output the invalid sport name\n",
    "\n",
    "selected_index = int(input(\"Enter a number between 0 and 4: \"))   # input a value between 0 and 4\n",
    "\n",
    "if selected_index >= 0 and selected_index < len(sports_tuple):   # if selected_index is greater than or equal to 0 or less than sports_tuple\n",
    "    sport_name = sports_tuple[selected_index]\n",
    "    print(\"Sport Name:\", sport_name)\n",
    "else:\n",
    "    print(\"Invalid index.\")\n"
   ]
  },
  {
   "cell_type": "code",
   "execution_count": null,
   "id": "7c194b58",
   "metadata": {},
   "outputs": [],
   "source": []
  }
 ],
 "metadata": {
  "kernelspec": {
   "display_name": "Python 3 (ipykernel)",
   "language": "python",
   "name": "python3"
  },
  "language_info": {
   "codemirror_mode": {
    "name": "ipython",
    "version": 3
   },
   "file_extension": ".py",
   "mimetype": "text/x-python",
   "name": "python",
   "nbconvert_exporter": "python",
   "pygments_lexer": "ipython3",
   "version": "3.11.5"
  }
 },
 "nbformat": 4,
 "nbformat_minor": 5
}
