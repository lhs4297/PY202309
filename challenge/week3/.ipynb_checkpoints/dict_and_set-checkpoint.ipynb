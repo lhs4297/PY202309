{
 "cells": [
  {
   "cell_type": "code",
   "execution_count": 1,
   "metadata": {
    "scrolled": true
   },
   "outputs": [
    {
     "name": "stdout",
     "output_type": "stream",
     "text": [
      "Enter an English number (1 to 5): 1\n",
      "Invalid input. Please enter a valid English number (1 to 5).\n",
      "Enter an English number (1 to 5): 3\n",
      "Invalid input. Please enter a valid English number (1 to 5).\n",
      "Enter an English number (1 to 5): 5\n",
      "Invalid input. Please enter a valid English number (1 to 5).\n",
      "Enter an English number (1 to 5): 일\n",
      "Invalid input. Please enter a valid English number (1 to 5).\n",
      "Enter an English number (1 to 5): one\n",
      "one is 일\n"
     ]
    }
   ],
   "source": [
    "def create_dictionary():   # make dictionary\n",
    "    dictionary = {\"one\": \"일\", \"two\": \"이\", \"three\": \"삼\", \"four\": \"사\", \"five\": \"오\"}\n",
    "    return dictionary\n",
    "\n",
    "def get_user_input():   # set the index to receive input\n",
    "    valid_inputs = [\"one\", \"two\", \"three\", \"four\", \"five\"]\n",
    "    \n",
    "    while True:   # repeat until a valid index is received\n",
    "        number = input(\"Enter an English number (1 to 5): \")\n",
    "        if number in valid_inputs:\n",
    "            return number\n",
    "        else:\n",
    "            print(\"Invalid input. Please enter a valid English number (1 to 5).\")\n",
    "\n",
    "dictionary = create_dictionary()   # save the dictionary you created as dictionary\n",
    "english_number = get_user_input()   # receive input as english_number\n",
    "korean_number = dictionary[english_number]   # in the dictionary english_number as korean_numbe\n",
    "print(f\"{english_number} is {korean_number}\")   # print\n"
   ]
  },
  {
   "cell_type": "code",
   "execution_count": 4,
   "metadata": {},
   "outputs": [
    {
     "name": "stdout",
     "output_type": "stream",
     "text": [
      "Name : 'Moving' / average: 4.00\n",
      "Name : 'Mask Girl' / average: 3.67\n",
      "Name : 'Oppenheimer' / average: 3.33\n"
     ]
    }
   ],
   "source": [
    "rating = {   # a person's rating for each movie\n",
    "    \"Moving\": {\"Misoo\": 4, \"Kwon\": 3, \"Soo\": 5},\n",
    "    \"Mask Girl\": {\"Misoo\": 3, \"David\": 4, \"Soo\": 4},\n",
    "    \"Oppenheimer\": {\"Kwon\": 3, \"Bob\": 3, \"David\": 4}\n",
    "}\n",
    "\n",
    "scores_avg = {}   # make the average of the scores in the dictionary type\n",
    "\n",
    "for movie, score in rating.items():   # inside the rating, we go around movie and score\n",
    "    score_total = sum(score.values())   # sums the value values of the score\n",
    "    reviewers_num = len(score)   # save Length\n",
    "    score_avg = score_total / reviewers_num   # find the average\n",
    "    scores_avg[movie] = score_avg   # save score_avg in movie\n",
    "\n",
    "for movie, avg_score in scores_avg.items():\n",
    "    print(f\"Name : '{movie}' / average: {avg_score:.2f}\")   # print for loop\n"
   ]
  },
  {
   "cell_type": "code",
   "execution_count": 5,
   "metadata": {},
   "outputs": [
    {
     "name": "stdout",
     "output_type": "stream",
     "text": [
      "Enter user1's 1 friend name : 철수\n",
      "Enter user1's 2 friend name : 영희\n",
      "Enter user1's 3 friend name : 동수\n",
      "Enter user2's 1 friend name : 동민\n",
      "Enter user2's 2 friend name : 철수\n",
      "Enter user2's 3 friend name : 영희\n",
      "All friends : 영희 동민 철수 동수\n"
     ]
    }
   ],
   "source": [
    "friends_user1 = set()\n",
    "\n",
    "for i in range(3):\n",
    "    friends_name = input(f\"Enter user1's {i + 1} friend name : \")\n",
    "    friends_user1.add(friends_name)\n",
    "\n",
    "friends_user2 = set()\n",
    "\n",
    "for i in range(3):\n",
    "    friends_name = input(f\"Enter user2's {i + 1} friend name : \")\n",
    "    friends_user2.add(friends_name)\n",
    "\n",
    "\n",
    "\n",
    "friends_combine = friends_user1.union(friends_user2)\n",
    "\n",
    "print(\"All friends :\", *friends_combine)\n"
   ]
  },
  {
   "cell_type": "code",
   "execution_count": null,
   "metadata": {},
   "outputs": [],
   "source": []
  }
 ],
 "metadata": {
  "kernelspec": {
   "display_name": "Python 3 (ipykernel)",
   "language": "python",
   "name": "python3"
  },
  "language_info": {
   "codemirror_mode": {
    "name": "ipython",
    "version": 3
   },
   "file_extension": ".py",
   "mimetype": "text/x-python",
   "name": "python",
   "nbconvert_exporter": "python",
   "pygments_lexer": "ipython3",
   "version": "3.11.5"
  }
 },
 "nbformat": 4,
 "nbformat_minor": 4
}
