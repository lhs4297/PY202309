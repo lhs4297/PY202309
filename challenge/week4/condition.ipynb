{
 "cells": [
  {
   "cell_type": "code",
   "execution_count": null,
   "id": "71a6bc8b",
   "metadata": {},
   "outputs": [],
   "source": [
    "rain = input(\"Is it raining? (Y/N): \").lower()   # Lowercase all the characters I receive through input\n",
    "windy = input(\"Is it windy? (Y/N): \").lower()\n",
    "\n",
    "\n",
    "if rain == 'y' and windy == 'y':   # If both rain and windy are y\n",
    "    print(\"It's too windy for an umbrella.\")\n",
    "elif rain == 'y' and windy == 'n':   # if both rain is y and windy is n\n",
    "    print(\"Take an umbrella.\")\n",
    "elif rain == 'n' and windy == 'y':   # if both rain is n and windy is y\n",
    "    print(\"Please take a coat.\")\n",
    "elif rain == 'n' and windy == 'n':   # if both rain is n and windy is n\n",
    "    print(\"Have a nice day.\")\n",
    "else:   # If not all of the above\n",
    "    print(\"Incorrect Input\")\n"
   ]
  },
  {
   "cell_type": "code",
   "execution_count": null,
   "id": "82e63494",
   "metadata": {},
   "outputs": [],
   "source": []
  }
 ],
 "metadata": {
  "kernelspec": {
   "display_name": "Python 3 (ipykernel)",
   "language": "python",
   "name": "python3"
  },
  "language_info": {
   "codemirror_mode": {
    "name": "ipython",
    "version": 3
   },
   "file_extension": ".py",
   "mimetype": "text/x-python",
   "name": "python",
   "nbconvert_exporter": "python",
   "pygments_lexer": "ipython3",
   "version": "3.9.7"
  }
 },
 "nbformat": 4,
 "nbformat_minor": 5
}
